{
  "nbformat": 4,
  "nbformat_minor": 0,
  "metadata": {
    "colab": {
      "provenance": []
    },
    "kernelspec": {
      "name": "python3",
      "display_name": "Python 3"
    },
    "language_info": {
      "name": "python"
    }
  },
  "cells": [
    {
      "cell_type": "markdown",
      "source": [
        "## Code Up 파이썬 기초 문제 1~24번 문제 풀이"
      ],
      "metadata": {
        "id": "AqTyENCYAqrz"
      }
    },
    {
      "cell_type": "markdown",
      "source": [
        "### 1.print()를 이용해 다음 단어를 출력하시오\n",
        "\n",
        "Hello\n",
        "\n",
        "https://codeup.kr/problem.php?id=6001"
      ],
      "metadata": {
        "id": "pSXcuBZHW-_Y"
      }
    },
    {
      "cell_type": "code",
      "execution_count": null,
      "metadata": {
        "colab": {
          "base_uri": "https://localhost:8080/"
        },
        "id": "UzJin3oRV8Ng",
        "outputId": "9aa1086d-35af-480b-ba10-fb053e932e5f"
      },
      "outputs": [
        {
          "output_type": "stream",
          "name": "stdout",
          "text": [
            "Hello\n"
          ]
        }
      ],
      "source": [
        "print(\"Hello\")"
      ]
    },
    {
      "cell_type": "markdown",
      "source": [
        "### 2. 공백()을 포함한 문장을 출력한다. 다음 문장을 출력해보자\n",
        "\n",
        "Hello World\n",
        "(대소문자에 주의)\n",
        "\n",
        "https://codeup.kr/problem.php?id=6002"
      ],
      "metadata": {
        "id": "hCSxzLsnXOmB"
      }
    },
    {
      "cell_type": "code",
      "source": [
        "print(\"Hello World\")\n",
        "print(\"Hello\", \"World\")"
      ],
      "metadata": {
        "colab": {
          "base_uri": "https://localhost:8080/"
        },
        "id": "vz9nyiQDXO7s",
        "outputId": "f1b91651-aea5-4204-8b82-299fe819b129"
      },
      "execution_count": null,
      "outputs": [
        {
          "output_type": "stream",
          "name": "stdout",
          "text": [
            "Hello World\n",
            "Hello World\n"
          ]
        }
      ]
    },
    {
      "cell_type": "markdown",
      "source": [
        "### 3. 이번에는 줄을 바꿔 출력하는 출력문을 연습해보자. 다음과 같이 줄을 바꿔 출력해야 한다.\n",
        "\n",
        "Hello\\\n",
        "World\n",
        "\n",
        "https://codeup.kr/problem.php?id=6003"
      ],
      "metadata": {
        "id": "Z668ywz0XPQF"
      }
    },
    {
      "cell_type": "code",
      "source": [
        "print(\"Hello\")\n",
        "print(\"World\")\n",
        "print(\"-\"*30)\n",
        "print(\"Hello\\nWorld\")"
      ],
      "metadata": {
        "colab": {
          "base_uri": "https://localhost:8080/"
        },
        "id": "6TYAJRELXPkN",
        "outputId": "1c4de818-fa69-4dd8-fca7-474ee7d29228"
      },
      "execution_count": null,
      "outputs": [
        {
          "output_type": "stream",
          "name": "stdout",
          "text": [
            "Hello\n",
            "World\n",
            "------------------------------\n",
            "Hello\n",
            "World\n"
          ]
        }
      ]
    },
    {
      "cell_type": "markdown",
      "source": [
        "### 4. 작은 따옴표(')가 들어있는 출력문 연습을 해보자. 다음 문장을 출력하시오\n",
        "\n",
        "'Hello'\n",
        "\n",
        "https://codeup.kr/problem.php?id=6004"
      ],
      "metadata": {
        "id": "PZfP95QPXP1T"
      }
    },
    {
      "cell_type": "code",
      "source": [
        "print(\"'Hello'\")"
      ],
      "metadata": {
        "colab": {
          "base_uri": "https://localhost:8080/"
        },
        "id": "HgK7fqMtXQFw",
        "outputId": "a7eab851-652a-4641-9689-8cfad3989c6b"
      },
      "execution_count": null,
      "outputs": [
        {
          "output_type": "stream",
          "name": "stdout",
          "text": [
            "'Hello'\n"
          ]
        }
      ]
    },
    {
      "cell_type": "markdown",
      "source": [
        "### 5. 큰 따옴표가 포함된 출력문을 연습해보자\n",
        "\n",
        "\"Hello World\"\n",
        "\n",
        "https://codeup.kr/problem.php?id=6005"
      ],
      "metadata": {
        "id": "LcTHy08AXQU4"
      }
    },
    {
      "cell_type": "code",
      "source": [
        "print('\"Hello World\"')"
      ],
      "metadata": {
        "colab": {
          "base_uri": "https://localhost:8080/"
        },
        "id": "xxXLYaaqXQnk",
        "outputId": "74712b7c-f2a8-444a-f5e3-4bcf9afeb03f"
      },
      "execution_count": null,
      "outputs": [
        {
          "output_type": "stream",
          "name": "stdout",
          "text": [
            "\"Hello World\"\n"
          ]
        }
      ]
    },
    {
      "cell_type": "markdown",
      "source": [
        "### 6. 특수문자 출력에 도전하자\n",
        "\n",
        "\"!@#$%^&*()'\n",
        "\n",
        "https://codeup.kr/problem.php?id=6006"
      ],
      "metadata": {
        "id": "7feKtvc1XQ1d"
      }
    },
    {
      "cell_type": "code",
      "source": [
        "print(\"\\\"!@#$%^&*()'\")\n",
        "print('\"!@#$%^&*()\\'')"
      ],
      "metadata": {
        "colab": {
          "base_uri": "https://localhost:8080/"
        },
        "id": "kaWgbOTMXRMM",
        "outputId": "4e20b700-d208-40dc-d7af-68117fc35b0d"
      },
      "execution_count": null,
      "outputs": [
        {
          "output_type": "stream",
          "name": "stdout",
          "text": [
            "\"!@#$%^&*()'\n",
            "\"!@#$%^&*()'\n"
          ]
        }
      ]
    },
    {
      "cell_type": "markdown",
      "source": [
        "### 7. 윈도우 운영체제의 파일경로를 출력하는 연습을 해보자\n",
        "\n",
        "\"C:\\Download\\'hello'.py\"\n",
        "\n",
        "https://codeup.kr/problem.php?id=6007"
      ],
      "metadata": {
        "id": "j5sELRHbXRZy"
      }
    },
    {
      "cell_type": "code",
      "source": [
        "# \\를 안전하게 출력하려면 \\\\를 사용하는게 좋다\n",
        "print('\"C:\\\\Download\\\\\\'hello\\'.py\"')"
      ],
      "metadata": {
        "colab": {
          "base_uri": "https://localhost:8080/"
        },
        "id": "8OnIIvx9XRwS",
        "outputId": "626d0485-e359-4e7e-d568-0ca55c89ac1a"
      },
      "execution_count": null,
      "outputs": [
        {
          "output_type": "stream",
          "name": "stdout",
          "text": [
            "\"C:\\Download\\'hello'.py\"\n"
          ]
        }
      ]
    },
    {
      "cell_type": "markdown",
      "source": [
        "### 8. python프로그램의 소스코드를 출력해보자\n",
        "\n",
        "print(\"Hello\\nWorld\")\n",
        "위 코드를 정확히 그대로 출력하시오(공백문자 주의)\n",
        "\n",
        "https://codeup.kr/problem.php?id=6008"
      ],
      "metadata": {
        "id": "wII7_g5WXSAm"
      }
    },
    {
      "cell_type": "code",
      "source": [
        "print('print(\"Hello\\\\nWorld\")')"
      ],
      "metadata": {
        "colab": {
          "base_uri": "https://localhost:8080/"
        },
        "id": "7XoxnbgQbgHF",
        "outputId": "39fc1746-4bcb-4dfd-c6ae-06250f264865"
      },
      "execution_count": null,
      "outputs": [
        {
          "output_type": "stream",
          "name": "stdout",
          "text": [
            "print(\"Hello\\nWorld\")\n"
          ]
        }
      ]
    },
    {
      "cell_type": "markdown",
      "source": [
        "### 9. 문자(character)는 0~9, a~z, A~Z, !,@,#,{,[,<, ...과 같이 길이가 1인 기호라고 할 수 있다. \n",
        "\n",
        "변수에 문자 1개를 저장한 후 변수에 저장되어 있는 문자를 그대로 출력해보자\n",
        "\n",
        "예시)\n",
        "c = input()\n",
        "print(c)\n",
        "와 같은 형태로 가능하다\n",
        "\n",
        "https://codeup.kr/problem.php?id=6009\n",
        "___\n",
        "참고)\n",
        "\n",
        "input()을 사용하면 키보드로 입력한 값을 가져온다.\n",
        "변수 = input() 를 실행시키면 키보드로 입력한 값을 온쪽의 변수에 저장한다.\n",
        "\n",
        "**오류*\n",
        "문제를 보고 변수에 문자를 저장해서 변수를 통해 문자를 프린트하라는 문제로 이해했는데 참고와 예시를 보니 아니었던 모양이다. \\\n",
        "코드에는 내가 이해한 문제와 문제의 의도코드 둘다 작성하였다.\n",
        "\n",
        "https://www.codingfactory.net/10085"
      ],
      "metadata": {
        "id": "uLdQ5UFEbe8V"
      }
    },
    {
      "cell_type": "code",
      "source": [
        "# 내가 이해한 문제\n",
        "a = \"I want to be good at coding\"\n",
        "print(a)\n",
        "\n",
        "# 문제의 의도\n",
        "c = input()\n",
        "print(c)"
      ],
      "metadata": {
        "colab": {
          "base_uri": "https://localhost:8080/"
        },
        "id": "bW5ti_bNeM7P",
        "outputId": "a39c0080-e646-4573-8eac-3cca6e48d900"
      },
      "execution_count": null,
      "outputs": [
        {
          "output_type": "stream",
          "name": "stdout",
          "text": [
            "I want to be good at coding\n",
            "I want to be good at coding\n",
            "I want to be good at coding\n"
          ]
        }
      ]
    },
    {
      "cell_type": "markdown",
      "source": [
        "### 10. 정수(integer)는 양의 정수, 음의 정수, 0과 같이 소숫점 아래 수가 없는 수라고 할 수 있다.변수에 정수값을 저장한 후 정수로 변환하여 출력해보자\n",
        "\n",
        "예시)\\\n",
        "n = input()\\\n",
        "n = int(n)\\\n",
        "print(n)와 같은 형태로 가능하다\n",
        "\n",
        "참고)\\\n",
        "input()을 사용하면 키보드로 입력(inpurt)한 값을 가져온다\n",
        "\n",
        "https://codeup.kr/problem.php?id=6010"
      ],
      "metadata": {
        "id": "902qyLS5eLsd"
      }
    },
    {
      "cell_type": "code",
      "source": [
        "a = input()\n",
        "print(int(a))"
      ],
      "metadata": {
        "id": "Ws_zLYy5hpcd",
        "colab": {
          "base_uri": "https://localhost:8080/"
        },
        "outputId": "d8b68225-13e8-42f1-b06e-323acfd34d16"
      },
      "execution_count": null,
      "outputs": [
        {
          "output_type": "stream",
          "name": "stdout",
          "text": [
            "15\n",
            "15\n"
          ]
        }
      ]
    },
    {
      "cell_type": "markdown",
      "source": [
        "### 11. 숫자(0~9)와 소숫점(,)을 사용해 표현한 수를 실수(real number)라고 한다. 변수에 실수값을 저장한 후 변수에 저장되어 있는 값을 그대로 출력해보자\n",
        "\n",
        "예시)\n",
        "\n",
        "f = input()\\\n",
        "f = float(f)\\\n",
        "print(f)\n",
        "\n",
        "https://codeup.kr/problem.php?id=6011"
      ],
      "metadata": {
        "id": "JxU-ledqbIGX"
      }
    },
    {
      "cell_type": "code",
      "source": [
        "a = input()\n",
        "print(float(a))"
      ],
      "metadata": {
        "id": "x3jdoq7LXSQp",
        "colab": {
          "base_uri": "https://localhost:8080/"
        },
        "outputId": "35c8bae1-df07-48da-e6b6-07f2ada482a7"
      },
      "execution_count": null,
      "outputs": [
        {
          "output_type": "stream",
          "name": "stdout",
          "text": [
            "1.23456\n",
            "1.23456\n"
          ]
        }
      ]
    },
    {
      "cell_type": "markdown",
      "source": [
        "### 12. 줄을 바꿔 정수(integer) 2개를 입력받아 줄을 바꿔 출력해보자\n",
        "\n",
        "예시)\n",
        "\n",
        "a = input()\\\n",
        "b = input()\\\n",
        "a=int(a)\\\n",
        "b=int(b)\\\\\n",
        "print(a)\\\n",
        "print(b)\n",
        "\n",
        "https://codeup.kr/problem.php?id=6012"
      ],
      "metadata": {
        "id": "WIH27xpoXSfa"
      }
    },
    {
      "cell_type": "code",
      "source": [
        "a = int(input())\n",
        "b = int(input())\n",
        "print(a)\n",
        "print(b)"
      ],
      "metadata": {
        "id": "x4_48Ic-XSuk",
        "colab": {
          "base_uri": "https://localhost:8080/"
        },
        "outputId": "3f8747b6-a924-4380-cd45-14340dabecb5"
      },
      "execution_count": null,
      "outputs": [
        {
          "output_type": "stream",
          "name": "stdout",
          "text": [
            "1\n",
            "2\n",
            "1\n",
            "2\n"
          ]
        }
      ]
    },
    {
      "cell_type": "markdown",
      "source": [
        "### 13.줄을 바꿔 문자(character) 2개를 입력받고, 순서를 바꿔 한 줄씩 출력해보자\n",
        "\n",
        "\n",
        "https://codeup.kr/problem.php?id=6013"
      ],
      "metadata": {
        "id": "5liOje62XS8N"
      }
    },
    {
      "cell_type": "code",
      "source": [
        "a=str(input())\n",
        "b=str(input())\n",
        "print(b)\n",
        "print(a)"
      ],
      "metadata": {
        "id": "ULGgi30JXTKx",
        "colab": {
          "base_uri": "https://localhost:8080/"
        },
        "outputId": "10ea6da0-868e-45fe-f0c7-2a1a11c50230"
      },
      "execution_count": null,
      "outputs": [
        {
          "output_type": "stream",
          "name": "stdout",
          "text": [
            "b\n",
            "a\n",
            "a\n",
            "b\n"
          ]
        }
      ]
    },
    {
      "cell_type": "markdown",
      "source": [
        "### 14. 실수 1개를 입력받아 줄을 바꿔 3번 출력해보자\n",
        "예시)\n",
        "\n",
        "print(f)  #f에 저장되어있는 값을 출력하고 줄을 바꾼다.\\\n",
        "print(f)\\\n",
        "print(f)\n",
        "\n",
        "https://codeup.kr/problem.php?id=6014"
      ],
      "metadata": {
        "id": "eEpA-EydXTZJ"
      }
    },
    {
      "cell_type": "code",
      "source": [
        "a = float(input())\n",
        "\n",
        "print(a)\n",
        "print(a)\n",
        "print(a)"
      ],
      "metadata": {
        "id": "7aRltRIuXTnY",
        "colab": {
          "base_uri": "https://localhost:8080/"
        },
        "outputId": "6258187f-d16c-457e-d4fd-2b21e76b58cf"
      },
      "execution_count": null,
      "outputs": [
        {
          "output_type": "stream",
          "name": "stdout",
          "text": [
            "0.1\n",
            "0.1\n",
            "0.1\n",
            "0.1\n"
          ]
        }
      ]
    },
    {
      "cell_type": "markdown",
      "source": [
        "### 15. 공백을 두고 입력된 정수(integer) 2개를 입력받아 줄을 바꿔 출력해보자\n",
        "\n",
        "예시)\n",
        "\n",
        "a, b = input().split()\\\n",
        "a=int(a)\\\n",
        "b=int(b)\\\n",
        "print(a)\\\n",
        "print(b)\n",
        "\n",
        "https://codeup.kr/problem.php?id=6015"
      ],
      "metadata": {
        "id": "kAa46H0nXTz1"
      }
    },
    {
      "cell_type": "code",
      "source": [
        "a,b = input().split()\n",
        "print(int(a))\n",
        "print(int(b))"
      ],
      "metadata": {
        "id": "VSNGlivvXUDZ",
        "colab": {
          "base_uri": "https://localhost:8080/"
        },
        "outputId": "4d1938a0-5837-49dc-91fa-816b65e882d3"
      },
      "execution_count": null,
      "outputs": [
        {
          "output_type": "stream",
          "name": "stdout",
          "text": [
            "1 2\n",
            "1\n",
            "2\n"
          ]
        }
      ]
    },
    {
      "cell_type": "markdown",
      "source": [
        "### 16. 공백을 두고 문자(character) 2개를 입력받아 순서를 바꿔 출력해보자\n",
        "\n",
        "참고)\n",
        "\n",
        "print( ) 안에서 쉼표(,)를 찍어 순서대로 나열하면, 그 순서대로 공백을 두고 출력된다.\n",
        "\n",
        "https://codeup.kr/problem.php?id=6016"
      ],
      "metadata": {
        "id": "DGIWCMwZXUQQ"
      }
    },
    {
      "cell_type": "code",
      "source": [
        "a,b = input().split()\n",
        "print(b,a)"
      ],
      "metadata": {
        "id": "x0s9b6OaXUgS",
        "colab": {
          "base_uri": "https://localhost:8080/"
        },
        "outputId": "6a551682-7599-4837-c468-6a118cb95523"
      },
      "execution_count": null,
      "outputs": [
        {
          "output_type": "stream",
          "name": "stdout",
          "text": [
            "a b\n",
            "b a\n"
          ]
        }
      ]
    },
    {
      "cell_type": "markdown",
      "source": [
        "### 17. 정수(integer), 실수, 문자, 문자열 등 1개만 입력받아 한 줄로 3번 출력해보자.\n",
        "\n",
        "예시)\n",
        "\n",
        "s = input()\\\n",
        "print(s, s, s)\n",
        "\n",
        "참고)\n",
        "\n",
        "python 언어에서는 문자/정수/실수/문자열 등 특별한 구분이 없이도 원하는 변수에 저장시켜 출력 할 수 있다.\n",
        "하지만, 저장된 값을 이용해 계산하거나 서로 붙여 연결시키거나 잘라내는 작업을 한다면?\n",
        "반드시 저장되어있는 값의 종류(문자/정수/실수/문자열 등)를 구분해 주어야 한다.\n",
        "\n",
        "https://codeup.kr/problem.php?id=6017"
      ],
      "metadata": {
        "id": "AAvwouu6s4Zg"
      }
    },
    {
      "cell_type": "code",
      "source": [
        "a = input()\n",
        "print(a,a,a)"
      ],
      "metadata": {
        "id": "oCxDbw0Ss4u0",
        "colab": {
          "base_uri": "https://localhost:8080/"
        },
        "outputId": "a9da0dc3-8767-4a9b-80b0-6c52f7104273"
      },
      "execution_count": null,
      "outputs": [
        {
          "output_type": "stream",
          "name": "stdout",
          "text": [
            "computer science\n",
            "computer science computer science computer science\n"
          ]
        }
      ]
    },
    {
      "cell_type": "markdown",
      "source": [
        "### 18. 24시간 시:분 형식으로 시간이 입력될 때, 그대로 출력하는 연습을 해보자\n",
        "\n",
        "예시)\n",
        "\n",
        "a, b = input().split(':')\\\n",
        "print(a, b, sep=':')\n",
        "\n",
        "참고)\n",
        "\n",
        "input().split(':') 를 사용하면 콜론 ':' 기호를 기준으로 자른다.\n",
        "print(?, ?, sep=':') 를 사용하면 콜론 ':' 기호를 사이에 두고 값을 출력한다.\n",
        "sep 는 분류기호(seperator)를 의미한다.\n",
        "\n",
        "https://codeup.kr/problem.php?id=6018"
      ],
      "metadata": {
        "id": "0Xaw1Jw-s5Ai"
      }
    },
    {
      "cell_type": "code",
      "source": [
        "a = input()\n",
        "print(str(a))"
      ],
      "metadata": {
        "id": "stMyzfJRs5Tg",
        "colab": {
          "base_uri": "https://localhost:8080/"
        },
        "outputId": "83f449c6-cdd0-498e-b364-2f6ab5f191fe"
      },
      "execution_count": null,
      "outputs": [
        {
          "output_type": "stream",
          "name": "stdout",
          "text": [
            "3:16\n",
            "3:16\n"
          ]
        }
      ]
    },
    {
      "cell_type": "markdown",
      "source": [
        "### 19. \"연도.월.일\"을 입력받아 \"일-월-연도\" 순서로 바꿔 출력해보자\n",
        "\n",
        "참고)\n",
        "\n",
        "y, m, d = input().split('.')\n",
        "과 같이 변수들을 순서대로 나열하면 구분기호를 기준으로 잘라 순서대로 저장한다.\n",
        "\n",
        "https://codeup.kr/problem.php?id=6019"
      ],
      "metadata": {
        "id": "_O7rnnwYs5nA"
      }
    },
    {
      "cell_type": "code",
      "source": [
        "y,m,d = input().split('.')\n",
        "print(d,m,y, sep='-')"
      ],
      "metadata": {
        "id": "hgjNq_tTs55f",
        "colab": {
          "base_uri": "https://localhost:8080/"
        },
        "outputId": "86be61e7-98d6-4ba6-9258-1655fa332f68"
      },
      "execution_count": null,
      "outputs": [
        {
          "output_type": "stream",
          "name": "stdout",
          "text": [
            "2020.3.4\n",
            "4-3-2020\n"
          ]
        }
      ]
    },
    {
      "cell_type": "markdown",
      "source": [
        "### 20. 주민번호를 입력받아 형태를 바꿔 출력해보자\n",
        "\n",
        "주민번호는 다음과 같이 구성된다. xxxxxx-xxxxxxx 왼쪽 6자리는 생년월일(YYMMDD)이고 오른쪽 7자리는 성별, 출생지역, 확인코드로 구성되어있다. \n",
        "\n",
        "ex)110011-0000000 -> 1100110000000\n",
        "\n",
        "https://codeup.kr/problem.php?id=6020\n",
        "\n",
        "q.근데 input 값이 str이 아닌데 쭉 이어지는 게 좀 신기하네.."
      ],
      "metadata": {
        "id": "0I8DL5mvs6Nv"
      }
    },
    {
      "cell_type": "code",
      "source": [
        "a,b = input().split('-')\n",
        "print(a+b)"
      ],
      "metadata": {
        "id": "0QYOM5uRs6mF",
        "colab": {
          "base_uri": "https://localhost:8080/"
        },
        "outputId": "4d5a3f51-a61d-4aa2-c1ff-27ef0af52f24"
      },
      "execution_count": null,
      "outputs": [
        {
          "output_type": "stream",
          "name": "stdout",
          "text": [
            "000907-1121112\n",
            "0009071121112\n"
          ]
        }
      ]
    },
    {
      "cell_type": "markdown",
      "source": [
        "### 21.알파벳과 숫자로 이루어진 단어 1개가 입력된다. 입력받은 단어의 각 문자를 한 줄에 한 문자씩 분리해 출력한다\n",
        "\n",
        "예시)\n",
        "\n",
        "s = input()\\\n",
        "print(s[0])\\\n",
        "print(s[1])\n",
        "\n",
        "https://codeup.kr/problem.php?id=6021"
      ],
      "metadata": {
        "id": "pM0hKV5_s63j"
      }
    },
    {
      "cell_type": "code",
      "source": [
        "a = input()\n",
        "for i in a:\n",
        "  print(i)"
      ],
      "metadata": {
        "id": "wa_0bcfPs7Lc",
        "colab": {
          "base_uri": "https://localhost:8080/"
        },
        "outputId": "66bb3cf0-9ec1-4f15-d93d-f70e935facba"
      },
      "execution_count": null,
      "outputs": [
        {
          "output_type": "stream",
          "name": "stdout",
          "text": [
            "Hello\n",
            "H\n",
            "e\n",
            "l\n",
            "l\n",
            "o\n"
          ]
        }
      ]
    },
    {
      "cell_type": "markdown",
      "source": [
        "### 22. 6자리 연월일(YYMMDD)을 입력받아 나누어 출력해보자\n",
        "\n",
        "참고)\n",
        "\n",
        "s = input()\\\n",
        "print(s[0:2])\\\n",
        "위 코드를 실행하면 0번째 문자부터 1번째 문자까지 잘라 출력한다.\n",
        "s[a:b] 라고 하면, s라는 단어에서 a번째 문자부터 b-1번째 문자까지 잘라낸 부분을 의미한다.\n",
        "다른 자르기 방법도 있다.\n",
        "\n",
        "https://codeup.kr/problem.php?id=6022"
      ],
      "metadata": {
        "id": "0SZo4sots7dq"
      }
    },
    {
      "cell_type": "code",
      "source": [
        "a = input()\n",
        "print(a[:2],a[2:4],a[4:])\n",
        "\n",
        "print('='*20)\n",
        "\n",
        "a = str(input())\n",
        "print(a[:2],a[2:4],a[4:])"
      ],
      "metadata": {
        "id": "CGG3pVTrs71h",
        "colab": {
          "base_uri": "https://localhost:8080/"
        },
        "outputId": "ef5b8a25-07d0-431b-8f6a-29279636bb37"
      },
      "execution_count": null,
      "outputs": [
        {
          "output_type": "stream",
          "name": "stdout",
          "text": [
            "200304\n",
            "20 03 04\n",
            "====================\n",
            "200304\n",
            "20 03 04\n"
          ]
        }
      ]
    },
    {
      "cell_type": "markdown",
      "source": [
        "### 23. 시:분:초 형식으로 시간이 입력될 때 분만 출력해보자. 어떻게 분만 출력해야 할지 주의깊게 생각해야 한다.\n",
        "\n",
        "https://codeup.kr/problem.php?id=6023"
      ],
      "metadata": {
        "id": "IiUSZK5as8Gx"
      }
    },
    {
      "cell_type": "code",
      "source": [
        "time = input()\n",
        "h, m, s = time.split(':')\n",
        "print(m)"
      ],
      "metadata": {
        "id": "hXBJeOfLs8gs",
        "colab": {
          "base_uri": "https://localhost:8080/"
        },
        "outputId": "742518f0-6e03-4e37-be41-1cb9b58cd43c"
      },
      "execution_count": null,
      "outputs": [
        {
          "output_type": "stream",
          "name": "stdout",
          "text": [
            "17:23:57\n",
            "23\n"
          ]
        }
      ]
    },
    {
      "cell_type": "markdown",
      "source": [
        "### 24. 알파벳 문자와 숫자로 이루어진 단어 2개를 입력받아 순서대로 붙여 출력하는 프로그램을 작성해보자\n",
        "\n",
        "예시)\n",
        "\n",
        "w1, w2 = input().split()\\\n",
        "s = w1 + w2\\\n",
        "print(s)\n",
        "\n",
        "참고)\n",
        "\n",
        "단어는 문자(character)들로 만든다.\n",
        "문자들로 구성된 문장을 문자열(string)이라고 부른다.\n",
        "문자열에는 공백문자(' ')가 포함될 수 있는데, \n",
        "문자 1개는 길이가 1인 문자열이라고 할 수 있고, 공백문자(' ')가 없는 문자열은 단어(word)라고 할 수 있다.\n",
        "\n",
        "일반적인 문장들은 공백으로 구분된 단어들로 만들어지기 때문에,\n",
        "공백문자로 구분된 문장에서 단어를 잘라내기 위해서는 공백문자(' ')를 기준으로 자르면 된다.\n",
        "키보드로 입력되는 것들은 기본적으로 문자열로 인식되고, 문자열끼리 더하기(+)를 실행하면,\n",
        "두 문자열을 합쳐 연결한(concatenate) 결과를 만들어 낸다.\n",
        "\n",
        "https://codeup.kr/problem.php?id=6024"
      ],
      "metadata": {
        "id": "4r3-MlH7s80o"
      }
    },
    {
      "cell_type": "code",
      "source": [
        "two_word = input()\n",
        "a,b = two_word.split(' ')\n",
        "print(a+b)"
      ],
      "metadata": {
        "id": "gykIXPdGs9KM",
        "colab": {
          "base_uri": "https://localhost:8080/"
        },
        "outputId": "b0497c24-8f2f-490c-e116-ac05823cd048"
      },
      "execution_count": null,
      "outputs": [
        {
          "output_type": "stream",
          "name": "stdout",
          "text": [
            "hello world\n",
            "helloworld\n"
          ]
        }
      ]
    },
    {
      "cell_type": "markdown",
      "source": [
        "# 복습 & 학습 내용\n",
        "\n",
        "**1.split() 함수**\n",
        "\n",
        "문자열.split()의 형태\n",
        "\n",
        "파라미터\n",
        "- sep : (기본값:None) 구분자\n",
        "- maxsplit : (기본값:-1) 분할 횟수\\\n",
        "=> 문자열.split('구분자',분할횟수) or 문자열.split(sep = '구분자',maxsplit = 분할횟수)\n",
        "\n"
      ],
      "metadata": {
        "id": "0v-paHqpGUgr"
      }
    },
    {
      "cell_type": "markdown",
      "source": [
        "## reference\n",
        "\n",
        "https://blockdmask.tistory.com/469 \\\n",
        "https://it-coco.tistory.com/entry/%EC%B6%9C%EB%A0%A5-print-sep-end"
      ],
      "metadata": {
        "id": "F8-KbYqjBB-7"
      }
    }
  ]
}