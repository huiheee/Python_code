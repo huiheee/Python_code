{
  "nbformat": 4,
  "nbformat_minor": 0,
  "metadata": {
    "colab": {
      "provenance": []
    },
    "kernelspec": {
      "name": "python3",
      "display_name": "Python 3"
    },
    "language_info": {
      "name": "python"
    }
  },
  "cells": [
    {
      "cell_type": "markdown",
      "source": [
        "### 61. 입력된 정수 두 개를 비트단위로 or 연산한 후 그 결과를 정수로 출력해보자.\n",
        "비트단위(bitwise) 연산자 |(or, vertical bar, 버티컬바)를 사용하면 된다.\n",
        "\n",
        "** | 은 파이프(pipe)연산자라고도 불리는 경우가 있다.\n",
        "\n",
        "** 비트단위(bitwise) 연산자는,\n",
        "~(bitwise not), &(bitwise and), |(bitwise or), ^(bitwise xor),\n",
        "<<(bitwise left shift), >>(bitwise right shift)\n",
        "가 있다.\n",
        "\n",
        "예를 들어 3과 5가 입력되었을 때를 살펴보면\n",
        "3      : 00000000 00000000 00000000 00000011\n",
        "5      : 00000000 00000000 00000000 00000101\n",
        "3 | 5 : 00000000 00000000 00000000 00000111\n",
        "이 된다.\n",
        "\n",
        "비트단위 or 연산은 둘 중 하나라도 1인 자리를 1로 만들어주는 것과 같다.\n",
        "\n",
        "이러한 비트단위 연산은 빠른 계산이 필요한 그래픽처리에서도 효과적으로 사용된다.\n",
        "\n",
        "https://codeup.kr/problem.php?id=6061"
      ],
      "metadata": {
        "id": "J1JhevoSuVGw"
      }
    },
    {
      "cell_type": "code",
      "execution_count": null,
      "metadata": {
        "colab": {
          "base_uri": "https://localhost:8080/"
        },
        "id": "kBndTZKEuHSB",
        "outputId": "d462a3c7-2693-4f2d-9ef2-9da0b51e9dd9"
      },
      "outputs": [
        {
          "output_type": "stream",
          "name": "stdout",
          "text": [
            "3 5\n",
            "7\n"
          ]
        }
      ],
      "source": [
        "a,b= input().split(' ')\n",
        "print(int(a)|int(b))"
      ]
    },
    {
      "cell_type": "markdown",
      "source": [
        "### 62. 입력된 정수 두 개를 비트단위로 xor 연산한 후 그 결과를 정수로 출력해보자.\n",
        "비트단위(bitwise) 연산자 ^(xor, circumflex/caret, 서컴플렉스/카릿)를 사용하면 된다\n",
        "\n",
        "https://codeup.kr/problem.php?id=6062"
      ],
      "metadata": {
        "id": "0X9UGFkduV4t"
      }
    },
    {
      "cell_type": "code",
      "source": [
        "a,b = input().split(' ')\n",
        "print(int(a)^int(b))"
      ],
      "metadata": {
        "colab": {
          "base_uri": "https://localhost:8080/"
        },
        "id": "Kra3jw0ZuWL_",
        "outputId": "6ecb17ea-f212-4d5f-acc4-3b7fc924ab56"
      },
      "execution_count": null,
      "outputs": [
        {
          "output_type": "stream",
          "name": "stdout",
          "text": [
            "3 5\n",
            "6\n"
          ]
        }
      ]
    },
    {
      "cell_type": "markdown",
      "source": [
        "### 63. 입력된 두 정수(a, b) 중 큰 값을 출력하는 프로그램을 작성해보자.\n",
        "단, 3항 연산을 사용한다.\n",
        "\n",
        "예시)\n",
        "\n",
        "a, b = input().split()\n",
        "a = int(a)  #변수 a에 저장되어있는 값을 정수로 바꾸어 다시 변수 a에 저장\n",
        "b = int(b)\n",
        "c = (a if (a>=b) else b)\n",
        "print(int(c))\n",
        "\n",
        "참고)\n",
        "\n",
        "3개의 요소로 이루어지는 3항 연산은\n",
        "\"x if C else y\" 의 형태로 작성이 된다.\n",
        "- C : True 또는 False 를 평가할 조건식(conditional expression) 또는 값\n",
        "- x : C의 평가 결과가 True 일 때 사용할 값\n",
        "- y : C의 평가 결과가 True 가 아닐 때 사용할 값\n",
        "\n",
        "조건식 또는 값이 True 이면 x 값이 사용되고, True가 아니면 y 값이 사용되도록 하는 코드이다.\n",
        "\n",
        "https://codeup.kr/problem.php?id=6063"
      ],
      "metadata": {
        "id": "URI2dA1vuW1g"
      }
    },
    {
      "cell_type": "code",
      "source": [
        "a,b = input().split(' ')\n",
        "a = int(a)\n",
        "b = int(b)\n",
        "if a > b:\n",
        "  print(a)\n",
        "elif a < b:\n",
        "  print(b)"
      ],
      "metadata": {
        "colab": {
          "base_uri": "https://localhost:8080/"
        },
        "id": "WPBZrf7QuXF4",
        "outputId": "d3c22e83-53c5-44d7-945b-98b851ab6713"
      },
      "execution_count": null,
      "outputs": [
        {
          "output_type": "stream",
          "name": "stdout",
          "text": [
            "123 456\n",
            "456\n"
          ]
        }
      ]
    },
    {
      "cell_type": "markdown",
      "source": [
        "### 64. 입력된 세 정수 a, b, c 중 가장 작은 값을 출력하는 프로그램을 작성해보자.\n",
        "단, 3항 연산을 사용한다.\n",
        "\n",
        "참고) \n",
        "\n",
        "프로그래밍언어 소스코드 작성시 모든 요소들은\n",
        "\"순서에 따라 한 단계씩 실행\"\n",
        "\"미리 정해진 순서에 따라 하나씩 연산 수행\"\n",
        "\"그 때까지 연산된 결과를 이용해 다시 순서에 따라 하나씩 연산\"\n",
        "...\n",
        "등의 원리가 적용된다.\n",
        "\n",
        "따라서 3항 연산을 중첩해(괄호로 묶는 등..) 이용하면 여러 값들을 순서대로 비교해 가장 큰/작은 값을 계산할 수 있다.\n",
        "\n",
        "**예를 들어**\n",
        "\n",
        "(a if a>b else b) if ((a if a>b else b)>c) else c\n",
        "와 같은 계산식은 a, b, c 의 값 중 가장 큰 값으로 계산된다.\n",
        "\n",
        "잘 이해가 되지 않는다면 어떤 순서에 따라 계산될 지 생각해보고\n",
        "여러 가지 연산자가 동시에 사용된 식이 있을 때, 어떤 우선순위에 따라 순서대로 계산이 되는지 찾아보도록 한다.\n",
        "“연산자 우선순위”를 검색하면 우선순위와 결합방향이 나온다.\n",
        "예를 들어 변수에 어떤 값을 대입하는 대입(assign) 연산자 = 의 우선순위는 가장 낮고, 오른쪽에서 왼쪽의 결합방향을 가진다.\n",
        "\n",
        "** 3항 연산은 자주 사용되지는 않지만,\n",
        "복잡한 계산식이나 조건 처리, 비교 구조를 간단히 표현할 수 있게 해준다.\n",
        "\n",
        "https://codeup.kr/problem.php?id=6064"
      ],
      "metadata": {
        "id": "GPOachm5uXUU"
      }
    },
    {
      "cell_type": "code",
      "source": [
        "a,b,c = input().split(' ')\n",
        "a = int(a)\n",
        "b = int(b)\n",
        "c = int(c)\n",
        "print((a if a<b else b) if ((a if a<b else b)<c) else c)"
      ],
      "metadata": {
        "colab": {
          "base_uri": "https://localhost:8080/"
        },
        "id": "pzH8Yy_NuXqq",
        "outputId": "1e06241a-12cb-462b-b590-2cc7963b5b9c"
      },
      "execution_count": null,
      "outputs": [
        {
          "output_type": "stream",
          "name": "stdout",
          "text": [
            "10 3 7\n",
            "3\n"
          ]
        }
      ]
    },
    {
      "cell_type": "markdown",
      "source": [
        "### 65. 3개의 정수(a, b, c)가 입력되었을 때, 짝수만 출력해보자.\n",
        "\n",
        "예시)\n",
        "\n",
        "a, b, c = input().split()\n",
        "\n",
        "a = int(a)\n",
        "b = int(b)\n",
        "c = int(c)\n",
        "\n",
        "https://codeup.kr/problem.php?id=6065"
      ],
      "metadata": {
        "id": "lipDaLFsuX9b"
      }
    },
    {
      "cell_type": "code",
      "source": [
        "a,b,c = input().split(' ')\n",
        "a=int(a)\n",
        "b=int(b)\n",
        "c=int(c)\n",
        "for i in (a,b,c):\n",
        "  if i%2==0:\n",
        "    print(i)"
      ],
      "metadata": {
        "colab": {
          "base_uri": "https://localhost:8080/"
        },
        "id": "JCcPoWRIuYHQ",
        "outputId": "0c40afbb-53e3-4e11-f62e-c24530c64277"
      },
      "execution_count": null,
      "outputs": [
        {
          "output_type": "stream",
          "name": "stdout",
          "text": [
            "1 2 4\n",
            "2\n",
            "4\n"
          ]
        }
      ]
    },
    {
      "cell_type": "markdown",
      "source": [
        "### 66. 3개의 정수(a, b, c)가 입력되었을 때, 짝(even)/홀(odd)을 출력해보자.\n",
        "\n",
        "예시)\n",
        "\n",
        "if a%2==0 :\\\n",
        "  print(\"even\")\\\n",
        "else :\\\n",
        "  print(\"odd\") \n",
        "\n",
        "https://codeup.kr/problem.php?id=6066"
      ],
      "metadata": {
        "id": "vCR29F5wuYQU"
      }
    },
    {
      "cell_type": "code",
      "source": [
        "a,b,c = input().split(' ')\n",
        "a=int(a)\n",
        "b=int(b)\n",
        "c=int(c)\n",
        "for i in (a,b,c):\n",
        "  if i%2==0:\n",
        "    print(\"even\")\n",
        "  else:\n",
        "    print(\"odd\")"
      ],
      "metadata": {
        "colab": {
          "base_uri": "https://localhost:8080/"
        },
        "id": "yOXWzzNXuYZb",
        "outputId": "257e713b-6000-4178-e973-9bcbcde828d9"
      },
      "execution_count": null,
      "outputs": [
        {
          "output_type": "stream",
          "name": "stdout",
          "text": [
            "1 2 3\n",
            "odd\n",
            "even\n",
            "odd\n"
          ]
        }
      ]
    },
    {
      "cell_type": "markdown",
      "source": [
        "### 67.0이 아닌 정수 1개가 입력되었을 때, 음(-)/양(+)과 짝(even)/홀(odd)을 구분해 분류해보자.\n",
        "음수이면서 짝수이면, A\\\n",
        "음수이면서 홀수이면, B\\\n",
        "양수이면서 짝수이면, C\\\n",
        "양수이면서 홀수이면, D\n",
        "를 출력한다.\n",
        "\n",
        "예시)\n",
        "\n",
        "if n<0 :\n",
        "  if n%2==0 :\\\n",
        "    print('A')      #주의 : 변수 A와 문자열 'A' / \"A\" 는 의미가 완전히 다르다. \n",
        "  else :\\\n",
        "    print('B')\\\n",
        "else :\\\n",
        "  if n%2==0 :\\\n",
        "    print('C')\\\n",
        "  else :\\\n",
        "    print('D')\n",
        "\n",
        "\n",
        "https://codeup.kr/problem.php?id=6067"
      ],
      "metadata": {
        "id": "pJX8YL3zuYiA"
      }
    },
    {
      "cell_type": "code",
      "source": [
        "a = int(input())\n",
        "if a < 0 and a%2==0:\n",
        "  print(\"A\")\n",
        "elif a<0 and a%2==1:\n",
        "  print(\"B\")\n",
        "elif a>0 and a%2==0:\n",
        "  print(\"C\")\n",
        "elif a>0 and a%2==1:\n",
        "  print(\"D\") "
      ],
      "metadata": {
        "colab": {
          "base_uri": "https://localhost:8080/"
        },
        "id": "KxpbcBvFuYrL",
        "outputId": "c8683bdd-406a-4eef-c998-ff291d56503d"
      },
      "execution_count": null,
      "outputs": [
        {
          "output_type": "stream",
          "name": "stdout",
          "text": [
            "-2147483648\n",
            "A\n"
          ]
        }
      ]
    },
    {
      "cell_type": "markdown",
      "source": [
        "### 68. 점수(정수, 0 ~ 100)를 입력받아 평가를 출력해보자.\n",
        "\n",
        "평가 기준)\n",
        "\n",
        "점수 범위 : 평가\n",
        " 90 ~ 100 : A\n",
        " 70 ~   89 : B\n",
        " 40 ~   69 : C\n",
        "   0 ~   39 : D\n",
        "로 평가되어야 한다.\n",
        "\n",
        "https://codeup.kr/problem.php?id=6068"
      ],
      "metadata": {
        "id": "FokxnfrXuYym"
      }
    },
    {
      "cell_type": "code",
      "source": [
        "a = int(input())\n",
        "if -1 < a < 101:\n",
        "  if 89 < a < 101:\n",
        "    print(\"A\")\n",
        "  elif 69 < a < 90:\n",
        "    print(\"B\")\n",
        "  elif 39 < a < 70:\n",
        "    print(\"C\")\n",
        "  elif -1 < a < 40:\n",
        "    print(\"D\")"
      ],
      "metadata": {
        "colab": {
          "base_uri": "https://localhost:8080/"
        },
        "id": "WiJOXvE7uY6e",
        "outputId": "73a8cfaa-1ee3-424e-913a-ec57406396c4"
      },
      "execution_count": null,
      "outputs": [
        {
          "output_type": "stream",
          "name": "stdout",
          "text": [
            "73\n",
            "B\n"
          ]
        }
      ]
    },
    {
      "cell_type": "markdown",
      "source": [
        "### 69. 평가를 문자(A, B, C, D, ...)로 입력받아 내용을 다르게 출력해보자.\n",
        "\n",
        "평가 내용)\n",
        "\n",
        "평가 : 내용\\\n",
        "A : best!!!\\\n",
        "B : good!!\\\n",
        "C : run!\\\n",
        "D : slowly~\\\n",
        "나머지 문자들 : what?\n",
        "\n",
        "https://codeup.kr/problem.php?id=6069"
      ],
      "metadata": {
        "id": "7ph17qDkuZCT"
      }
    },
    {
      "cell_type": "code",
      "source": [
        "a = str(input())\n",
        "if a == 'A':\n",
        "  print(\"best!!!\")\n",
        "elif a == 'B':\n",
        "  print(\"good!!\")\n",
        "elif a == 'C':\n",
        "  print('run!')\n",
        "elif a == 'D':\n",
        "  print('slowly~')\n",
        "else:\n",
        "  print(\"what?\")"
      ],
      "metadata": {
        "colab": {
          "base_uri": "https://localhost:8080/"
        },
        "id": "0s-FLJDquZKa",
        "outputId": "5f697966-4f65-49ea-8453-695a19a39b99"
      },
      "execution_count": null,
      "outputs": [
        {
          "output_type": "stream",
          "name": "stdout",
          "text": [
            "A\n",
            "best!!!\n"
          ]
        }
      ]
    },
    {
      "cell_type": "markdown",
      "source": [
        "### 70.(질문) 월이 입력될 때 계절 이름이 출력되도록 해보자.\n",
        "\n",
        "월 : 계절 이름\\\n",
        "12, 1, 2 : winter\\\n",
        "  3, 4, 5 : spring\\\n",
        "  6, 7, 8 : summer\\\n",
        "  9, 10, 11 : fall\n",
        "\n",
        "https://codeup.kr/problem.php?id=6070"
      ],
      "metadata": {
        "id": "maGCa9RwuZR1"
      }
    },
    {
      "cell_type": "code",
      "source": [
        "## 이렇게는 왜 안 될까?\n",
        "month = int(input())\n",
        "if month == 12 or 1 or 2:\n",
        "  print('winter')\n",
        "elif month == 3 or 4 or 5:\n",
        "  print('spring')\n",
        "elif month == 6 or 7 or 8:\n",
        "  print('summer')\n",
        "elif month == 9 or 10 or 11:\n",
        "  print('fall')"
      ],
      "metadata": {
        "id": "kY9IDYVQuZZi"
      },
      "execution_count": null,
      "outputs": []
    },
    {
      "cell_type": "code",
      "source": [
        "month = int(input())\n",
        "\n",
        "if month in range(3,6):\n",
        "  print('spring')\n",
        "elif month in range(6,9):\n",
        "  print('summer')\n",
        "elif month in range(9,12):\n",
        "  print('fall')\n",
        "else:\n",
        "  print('winter')"
      ],
      "metadata": {
        "colab": {
          "base_uri": "https://localhost:8080/"
        },
        "id": "GAm-NgVly2hc",
        "outputId": "f98ca599-ad0a-4b60-c690-8d93eb83cfe7"
      },
      "execution_count": null,
      "outputs": [
        {
          "output_type": "stream",
          "name": "stdout",
          "text": [
            "8\n",
            "summer\n"
          ]
        }
      ]
    },
    {
      "cell_type": "markdown",
      "source": [
        "### 71.임의의 정수가 줄을 바꿔 계속 입력된다.-2147483648 ~ +2147483647, 단 개수는 알 수 없다.\n",
        "\n",
        "0이 아니면 입력된 정수를 출력하고, 0이 입력되면 출력을 중단해보자.\n",
        "\n",
        "예시\n",
        "...\n",
        "n = 1      #처음 조건 검사를 통과하기 위해 0 아닌 값을 임의로 저장\n",
        "while n!=0 :\n",
        "  n = int(input())\n",
        "  if n!=0 :\n",
        "    print(n)\n",
        "\n",
        "https://codeup.kr/problem.php?id=6071"
      ],
      "metadata": {
        "id": "61kGMT2auZgj"
      }
    },
    {
      "cell_type": "code",
      "source": [
        "a = int(input())\n",
        "while a !=0:\n",
        "  print(a)\n",
        "  a = int(input())\n",
        "  if a ==0:\n",
        "    break"
      ],
      "metadata": {
        "colab": {
          "base_uri": "https://localhost:8080/"
        },
        "id": "_S0AWJ3CuZrf",
        "outputId": "deb90b6e-b8eb-42cf-952a-bcdc8098e86d"
      },
      "execution_count": null,
      "outputs": [
        {
          "name": "stdout",
          "output_type": "stream",
          "text": [
            "1\n",
            "1\n",
            "2\n",
            "2\n",
            "3\n",
            "3\n",
            "4\n",
            "4\n",
            "0\n"
          ]
        }
      ]
    },
    {
      "cell_type": "markdown",
      "source": [
        "### 72. 정수(1 ~ 100) 1개가 입력되었을 때 카운트다운을 출력해보자.\n",
        "\n",
        "while 조건식 :\\\n",
        "  ...\\\n",
        "  ...\\\n",
        "반복 실행구조를 사용해 보자.\n",
        "\n",
        "https://codeup.kr/problem.php?id=6072"
      ],
      "metadata": {
        "id": "hEu5wMd8uZzM"
      }
    },
    {
      "cell_type": "code",
      "source": [
        "a = int(input())\n",
        "if 0 < a < 101:\n",
        "  while a !=0:\n",
        "    print(a)\n",
        "    a -= 1\n",
        "    if a == 0:\n",
        "      break "
      ],
      "metadata": {
        "colab": {
          "base_uri": "https://localhost:8080/"
        },
        "id": "oYHCN8c5uZ7Y",
        "outputId": "bdf40ed5-20a3-4e90-a45e-7f2fa37c469d"
      },
      "execution_count": null,
      "outputs": [
        {
          "output_type": "stream",
          "name": "stdout",
          "text": [
            "3\n",
            "3\n",
            "2\n",
            "1\n"
          ]
        }
      ]
    },
    {
      "cell_type": "markdown",
      "source": [
        "### 73. 정수(1 ~ 100) 1개가 입력되었을 때 카운트다운을 출력해보자.\n",
        "\n",
        "while 조건식 :\\\n",
        "반복 실행구조를 사용해 보자.\n",
        "\n",
        "https://codeup.kr/problem.php?id=6073"
      ],
      "metadata": {
        "id": "LTvlr3p5uaCe"
      }
    },
    {
      "cell_type": "code",
      "source": [
        "a = int(input())\n",
        "if 0 < a < 101:\n",
        "  while a !=0:\n",
        "    print(a-1)\n",
        "    a -= 1\n",
        "    if a == 0:\n",
        "      break"
      ],
      "metadata": {
        "colab": {
          "base_uri": "https://localhost:8080/"
        },
        "id": "mTnjAnxruaKC",
        "outputId": "b7172ffc-def9-4848-ccc3-13fdc884d199"
      },
      "execution_count": null,
      "outputs": [
        {
          "output_type": "stream",
          "name": "stdout",
          "text": [
            "5\n",
            "4\n",
            "3\n",
            "2\n",
            "1\n",
            "0\n"
          ]
        }
      ]
    },
    {
      "cell_type": "markdown",
      "source": [
        "### 74. 영문 소문자(a ~ z) 1개가 입력되었을 때,a부터 그 문자까지의 알파벳을 순서대로 출력해보자.\n",
        "\n",
        "예시)\n",
        "\n",
        "c = ord(input())\\\n",
        "t = ord('a')\\\n",
        "while t<=c :\\\n",
        "  print(chr(t), end=' ')\\\n",
        "  t += 1\n",
        "\n",
        "  https://codeup.kr/problem.php?id=6074"
      ],
      "metadata": {
        "id": "Pnj1XUWduaRc"
      }
    },
    {
      "cell_type": "code",
      "source": [
        "alpabet = ord(input())  # 유니코드 형태\n",
        "a = ord('a') # 알파벳 a의 유니코드 형태\n",
        "for i in range(a, alpabet+1):\n",
        "  out = chr(i)\n",
        "  print(out, end=' ')"
      ],
      "metadata": {
        "id": "rGAbLb39uaZR",
        "colab": {
          "base_uri": "https://localhost:8080/"
        },
        "outputId": "0f609a56-db31-469c-9ff1-b8fdd7b50cb9"
      },
      "execution_count": null,
      "outputs": [
        {
          "output_type": "stream",
          "name": "stdout",
          "text": [
            "f\n",
            "a b c d e f "
          ]
        }
      ]
    },
    {
      "cell_type": "markdown",
      "source": [
        "### 75. 정수(0 ~ 100) 1개를 입력받아 0부터 그 수까지 순서대로 출력해보자.\n",
        "\n",
        "https://codeup.kr/problem.php?id=6075"
      ],
      "metadata": {
        "id": "qazwu6G5uagJ"
      }
    },
    {
      "cell_type": "code",
      "source": [
        "a = int(input())\n",
        "if -1 < a < 101:\n",
        "  for i in range(0,a+1):\n",
        "    print(i)"
      ],
      "metadata": {
        "id": "gB8xZ4kZuani"
      },
      "execution_count": null,
      "outputs": []
    },
    {
      "cell_type": "markdown",
      "source": [
        "### 76. 정수(0 ~ 100) 1개를 입력받아 0부터 그 수까지 순서대로 출력해보자.\n",
        "\n",
        "https://codeup.kr/problem.php?id=6076"
      ],
      "metadata": {
        "id": "5KFYDa3uuau6"
      }
    },
    {
      "cell_type": "code",
      "source": [
        "a = int(input())\n",
        "if -1 < a < 101:\n",
        "  for i in range(0,a+1):\n",
        "    print(i)"
      ],
      "metadata": {
        "colab": {
          "base_uri": "https://localhost:8080/"
        },
        "id": "EUZJ-higua2G",
        "outputId": "3d84cc38-8489-4352-e56f-04fd7547c054"
      },
      "execution_count": null,
      "outputs": [
        {
          "output_type": "stream",
          "name": "stdout",
          "text": [
            "4\n",
            "0\n",
            "1\n",
            "2\n",
            "3\n",
            "4\n"
          ]
        }
      ]
    },
    {
      "cell_type": "markdown",
      "source": [
        "### 77. 정수(1 ~ 100) 1개를 입력받아 1부터 그 수까지 짝수의 합을 구해보자.\n",
        "\n",
        "https://codeup.kr/problem.php?id=6077"
      ],
      "metadata": {
        "id": "te25UruPua-v"
      }
    },
    {
      "cell_type": "code",
      "source": [
        "a = int(input())\n",
        "even = 0\n",
        "for i in range(0,a+1):\n",
        "  if i%2==0:\n",
        "     even += i\n",
        "print(even)    "
      ],
      "metadata": {
        "colab": {
          "base_uri": "https://localhost:8080/"
        },
        "id": "0ftOFe58ubG6",
        "outputId": "3caa7484-3cc8-4f3d-82c3-1507061dbd53"
      },
      "execution_count": null,
      "outputs": [
        {
          "output_type": "stream",
          "name": "stdout",
          "text": [
            "8\n",
            "20\n"
          ]
        }
      ]
    },
    {
      "cell_type": "markdown",
      "source": [
        "### 78. 영문 소문자 'q'가 입력될 때까지 입력한 문자를 계속 출력하는 프로그램을 작성해보자.\n",
        "\n",
        "https://codeup.kr/problem.php?id=6078"
      ],
      "metadata": {
        "id": "IGNN_ZvpubN2"
      }
    },
    {
      "cell_type": "code",
      "source": [
        "alp = str(input())\n",
        "\n",
        "while alp != 'q':\n",
        "  print(alp)\n",
        "  alp = str(input())\n",
        "print('q')"
      ],
      "metadata": {
        "id": "oDpLHmzbubV8",
        "colab": {
          "base_uri": "https://localhost:8080/"
        },
        "outputId": "01005c30-6b68-4d70-ec3e-55ccbeb6eaf2"
      },
      "execution_count": null,
      "outputs": [
        {
          "output_type": "stream",
          "name": "stdout",
          "text": [
            "a\n",
            "a\n",
            "b\n",
            "b\n",
            "g\n",
            "g\n",
            "t\n",
            "t\n",
            "e\n",
            "e\n",
            "q\n",
            "q\n"
          ]
        }
      ]
    },
    {
      "cell_type": "markdown",
      "source": [
        "### 79. 1, 2, 3 ... 을 계속 더해 나갈 때,그 합이 입력한 정수(0 ~ 1000)보다 같거나 작을 때까지만 계속 더하는 프로그램을 작성해보자.\n",
        "\n",
        "즉, 1부터 n까지 정수를 계속 더해 나간다고 할 때,\n",
        "어디까지 더해야 입력한 수보다 같거나 커지는 지를 알아보고자하는 문제이다.\n",
        "\n",
        "https://codeup.kr/problem.php?id=6079"
      ],
      "metadata": {
        "id": "4Prr6Hrlubdv"
      }
    },
    {
      "cell_type": "code",
      "source": [
        "# sum이 입력된 정수(input)와 같거나 커졌을 때 마지막에 더한 정수를 출력한다.\n",
        "\n",
        "num = int(input())\n",
        "sum = 1\n",
        "n = 1\n",
        "\n",
        "while sum < num:\n",
        "  n += 1\n",
        "  sum += n\n",
        "  \n",
        "\n",
        "print(n)"
      ],
      "metadata": {
        "colab": {
          "base_uri": "https://localhost:8080/"
        },
        "id": "ulM2wTbNhHNJ",
        "outputId": "4a88ecf7-81d4-401a-eb83-8a285a614aa2"
      },
      "execution_count": null,
      "outputs": [
        {
          "output_type": "stream",
          "name": "stdout",
          "text": [
            "55\n",
            "10\n"
          ]
        }
      ]
    },
    {
      "cell_type": "markdown",
      "source": [
        "### 80. 1부터 n까지, 1부터 m까지 숫자가 적힌 서로 다른 주사위 2개를 던졌을 때, 나올 수 있는 모든 경우를 출력해보자.\n",
        "\n",
        "나올 수 있는 주사위의 숫자를 한 세트씩 줄을 바꿔 모두 출력한다.\n",
        "첫 번째 수는 n, 두 번째 수는 m으로 고정해 1부터 오름차순 순서로 출력하도록 한다.\n",
        "\n",
        "\n",
        "```\n",
        "# 예시\n",
        "for i in range(1, n+1) :\n",
        "  for j in range(1, m+1) :\n",
        "    print(i, j)\n",
        "```\n",
        "\n",
        "https://codeup.kr/problem.php?id=6080"
      ],
      "metadata": {
        "id": "DpcmFvqUubsf"
      }
    },
    {
      "cell_type": "code",
      "source": [
        "n, m = input().split(' ')\n",
        "\n",
        "for i in range(1, int(n)+1):\n",
        "  for j in range(1, int(m)+1):\n",
        "    print (i, j)"
      ],
      "metadata": {
        "id": "iPGCy2dMub0j",
        "colab": {
          "base_uri": "https://localhost:8080/"
        },
        "outputId": "fe85c85d-4d0f-4c3c-cd0b-a6be17d9ffd0"
      },
      "execution_count": null,
      "outputs": [
        {
          "output_type": "stream",
          "name": "stdout",
          "text": [
            "2 3\n",
            "1 1\n",
            "1 2\n",
            "1 3\n",
            "2 1\n",
            "2 2\n",
            "2 3\n"
          ]
        }
      ]
    },
    {
      "cell_type": "markdown",
      "source": [
        "### 81. 16진수(0, 1, 2, 3, 4, 5, 6, 7, 8, 9, A, B, C, D, E, F)를 배운 영일이는 16진수끼리 곱하는 16진수 구구단?에 대해서 궁금해졌다. A, B, C, D, E, F 중 하나가 입력될 때, 1부터 F까지 곱한 16진수 구구단의 내용을 출력해보자. (단, A ~ F 까지만 입력된다.)\n",
        "\n",
        "```\n",
        "# 예시\n",
        "  print('%X'%n, '*%X'%i, '=%X'%(n*i), sep='')\n",
        "```\n",
        "참고) \n",
        "\n",
        "print('%X'%n)    #n에 저장되어있는 값을 16진수(hexadecimal) 형태로 출력\n",
        "\n",
        "작은 따옴표 2개를 사용해서 print(..., sep='') 으로 출력하면, 공백없이 모두 붙여 출력된다.\n",
        "\n",
        "작은 따옴표 2개 '' 또는 큰 따옴표 2개 \"\" 는 아무 문자도 없는 빈문자열(empty string)을 의미한다.\n",
        "\n",
        "https://codeup.kr/problem.php?id=6081\n",
        "\n"
      ],
      "metadata": {
        "id": "4pQJjIm8ub7I"
      }
    },
    {
      "cell_type": "code",
      "source": [
        "n = str(input())\n",
        "hex_digits = [0,1,2,4,5,6,7,8,9,'A','B','C','D','E','F']\n",
        "\n",
        "for hex_digit in hex_digits:\n",
        "  mul_i = 0\n",
        "  if hex_digit == int(hex_digit):\n",
        "    mul_i = n*hex_digit\n",
        "  elif hex_digit == str(hex_digit):\n",
        "    mul_i = n*ord(hex_digit)\n",
        "  print(n, '*', hex_digit, '=', '%X'%mul_i, sep='')"
      ],
      "metadata": {
        "id": "hchqzygMnVl1"
      },
      "execution_count": null,
      "outputs": []
    },
    {
      "cell_type": "code",
      "source": [
        "hex_digits = ['0', '1', '2', '3', '4', '5', '6', '7', '8', '9', 'A', 'B', 'C', 'D', 'E', 'F']\n",
        "\n",
        "# prompt the user to input a hex digit\n",
        "hex_digit = input().upper()\n",
        "\n",
        "# check if the input is a valid hex digit\n",
        "if hex_digit in hex_digits:\n",
        "    n = hex_digits.index(hex_digit)\n",
        "    for i in hex_digits[1:]:\n",
        "        mul_i = hex_digits.index(i) * n\n",
        "        print(hex_digit, '*', i, '=', '%X'%mul_i, sep='')\n",
        "else:\n",
        "    print(\"Invalid input.\")"
      ],
      "metadata": {
        "colab": {
          "base_uri": "https://localhost:8080/"
        },
        "id": "CZPKfme2teWt",
        "outputId": "da85a57a-f438-47ef-e511-497d5918289d"
      },
      "execution_count": 28,
      "outputs": [
        {
          "output_type": "stream",
          "name": "stdout",
          "text": [
            "B\n",
            "B*1=B\n",
            "B*2=16\n",
            "B*3=21\n",
            "B*4=2C\n",
            "B*5=37\n",
            "B*6=42\n",
            "B*7=4D\n",
            "B*8=58\n",
            "B*9=63\n",
            "B*A=6E\n",
            "B*B=79\n",
            "B*C=84\n",
            "B*D=8F\n",
            "B*E=9A\n",
            "B*F=A5\n"
          ]
        }
      ]
    },
    {
      "cell_type": "markdown",
      "source": [
        "### 82. 친구들과 함께 3 6 9 게임을 하던 영일이는 잦은 실수 때문에 계속해서 벌칙을 받게 되었다.3 6 9 게임의 왕이 되기 위한 369 마스터 프로그램을 작성해 보자.\n",
        "\n",
        "** 3 6 9 게임은?\n",
        "여러 사람이 순서를 정한 후, 순서대로 수를 부르는 게임이다.\n",
        "만약 3, 6, 9 가 들어간 수를 자신이 불러야 하는 상황이라면, 수를 부르는 대신 \"박수(X)\" 를 쳐야 한다.\n",
        "33과 같이 3,6,9가 두 번 들어간 수 일때, \"짝짝\"과 같이 박수를 두 번 치는 형태도 있다. \n",
        "\n",
        "```\n",
        "# 참고 \n",
        "for i in range(1, n+1) :\\\n",
        "  if i%10==3 :\\\n",
        "    print(\"X\", end=' ')\n",
        "```\n",
        "- 출력 후 공백문자(빈칸, ' ')로 끝냄\n",
        "\n",
        "https://codeup.kr/problem.php?id=6082"
      ],
      "metadata": {
        "id": "pSNGiktSucLT"
      }
    },
    {
      "cell_type": "code",
      "source": [
        "# 이 방법으로는 사이트에서는 오류 처리나는데 그 이유를 모르겠다\n",
        "def three_six_nine(num):\n",
        "  num = int(input())\n",
        "  if 0 < num < 30:\n",
        "    for i in range(1, num+1):\n",
        "      if (i%10==3) | (i%10==6) | (i%10==9):\n",
        "        print('X', end=\" \")\n",
        "      else:\n",
        "        print(i, end=\" \")\n",
        "  else:\n",
        "    three_six_nine(num)\n",
        "\n",
        "three_six_nine(num)"
      ],
      "metadata": {
        "id": "mjHXfdhEucSW",
        "colab": {
          "base_uri": "https://localhost:8080/"
        },
        "outputId": "c6687117-acc9-4d02-ab30-dd2cbefd8260"
      },
      "execution_count": null,
      "outputs": [
        {
          "output_type": "stream",
          "name": "stdout",
          "text": [
            "41\n",
            "30\n",
            "29\n",
            "1 2 X 4 5 X 7 8 X 10 11 12 X 14 15 X 17 18 X 20 21 22 X 24 25 X 27 28 X "
          ]
        }
      ]
    },
    {
      "cell_type": "code",
      "source": [
        "num = int(input())\n",
        "if 0 < num < 30:\n",
        "  for i in range(1, num+1):\n",
        "    if (i%10==3) | (i%10==6) | (i%10==9):\n",
        "      print('X', end=' ')\n",
        "    else:\n",
        "      print(i, end=' ')"
      ],
      "metadata": {
        "colab": {
          "base_uri": "https://localhost:8080/"
        },
        "id": "Wr1E5l6E0_4K",
        "outputId": "f3d19e52-eb23-4da5-f540-8d76561dd42a"
      },
      "execution_count": null,
      "outputs": [
        {
          "output_type": "stream",
          "name": "stdout",
          "text": [
            "29\n",
            "1 2 X 4 5 X 7 8 X 10 11 12 X 14 15 X 17 18 X 20 21 22 X 24 25 X 27 28 X "
          ]
        }
      ]
    },
    {
      "cell_type": "markdown",
      "source": [
        "# Reference\n",
        "\n",
        "- 16진수 계산 https://mathphysics.tistory.com/577"
      ],
      "metadata": {
        "id": "bt6syo3XrLDa"
      }
    }
  ]
}