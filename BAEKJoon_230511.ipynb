{
  "nbformat": 4,
  "nbformat_minor": 0,
  "metadata": {
    "colab": {
      "provenance": []
    },
    "kernelspec": {
      "name": "python3",
      "display_name": "Python 3"
    },
    "language_info": {
      "name": "python"
    }
  },
  "cells": [
    {
      "cell_type": "markdown",
      "source": [
        "### 11. 별 찍기 - 12\n",
        "\n",
        "```\n",
        "# 3 입력 시\n",
        "  *\n",
        " **\n",
        "***\n",
        " **\n",
        "  *\n",
        "```\n",
        "https://www.acmicpc.net/problem/2522\n"
      ],
      "metadata": {
        "id": "KNrLQJ1-SjkX"
      }
    },
    {
      "cell_type": "code",
      "execution_count": 17,
      "metadata": {
        "colab": {
          "base_uri": "https://localhost:8080/"
        },
        "id": "80BjdVhHSVJJ",
        "outputId": "4be56687-c686-4a90-b0cf-f75a04216184"
      },
      "outputs": [
        {
          "output_type": "stream",
          "name": "stdout",
          "text": [
            "3\n",
            "  *\n",
            " **\n",
            "***\n",
            " **\n",
            "  *\n"
          ]
        }
      ],
      "source": [
        "N = int(input())\n",
        "if 1 <= N <= 100:\n",
        "  for i in range(1, N+1):\n",
        "    print(('*'*i).rjust(N))\n",
        "  for j in range(1, N):\n",
        "   print(('*'*(N-j)).rjust(N))"
      ]
    },
    {
      "cell_type": "markdown",
      "source": [
        "## 12. 별 찍기 - 13\n",
        "\n",
        "```\n",
        "# 입력 3\n",
        "*\n",
        "**\n",
        "***\n",
        "**\n",
        "*\n",
        "```\n",
        "\n",
        "\n",
        "\n",
        "https://www.acmicpc.net/problem/2523"
      ],
      "metadata": {
        "id": "j9p3BVVSXA6A"
      }
    },
    {
      "cell_type": "code",
      "source": [
        "N = int(input())\n",
        "if 1 <= N <= 100:\n",
        "  for i in range(1, N+1):\n",
        "    print(('*'*i))\n",
        "  for j in range(1, N):\n",
        "   print('*'*(N-j))"
      ],
      "metadata": {
        "colab": {
          "base_uri": "https://localhost:8080/"
        },
        "id": "-UdWji4wS4eE",
        "outputId": "524381fd-4d5b-4161-ce36-e37296498825"
      },
      "execution_count": 13,
      "outputs": [
        {
          "output_type": "stream",
          "name": "stdout",
          "text": [
            "3\n",
            "*\n",
            "**\n",
            "***\n",
            "**\n",
            "*\n"
          ]
        }
      ]
    },
    {
      "cell_type": "markdown",
      "source": [
        "### 13.별 찍기 - 15\n",
        "\n",
        "https://www.acmicpc.net/problem/10990"
      ],
      "metadata": {
        "id": "Jusasb8XY4vL"
      }
    },
    {
      "cell_type": "code",
      "source": [
        "N = int(input())\n",
        "if 1 <= N <= 100:\n",
        "  for i in range(1, N+1):\n",
        "    if i == 1:\n",
        "      print(' '*(N-i) + '*')\n",
        "    else:\n",
        "      print(' '*(N-i) + '*' + ' '*(2*i-3) + '*')"
      ],
      "metadata": {
        "colab": {
          "base_uri": "https://localhost:8080/"
        },
        "id": "bzzsAmWnS4bs",
        "outputId": "d2be4449-704b-4a21-c234-6d78db9250c2"
      },
      "execution_count": 23,
      "outputs": [
        {
          "output_type": "stream",
          "name": "stdout",
          "text": [
            "5\n",
            "    *\n",
            "   * *\n",
            "  *   *\n",
            " *     *\n",
            "*       *\n"
          ]
        }
      ]
    },
    {
      "cell_type": "markdown",
      "source": [
        "### 14. 별 찍기 - 16\n",
        "\n",
        "```\n",
        "# 입력 4\n",
        "   *\n",
        "  * *\n",
        " * * *\n",
        "* * * *\n",
        "```\n",
        "\n",
        "\n",
        "\n",
        "https://www.acmicpc.net/problem/10991"
      ],
      "metadata": {
        "id": "VTYU5WWzcl99"
      }
    },
    {
      "cell_type": "code",
      "source": [
        "N = int(input())\n",
        "if 1 <= N <= 100:\n",
        "  for i in range(1, N+1):\n",
        "    repeat = ' '+'*'\n",
        "    print(' '*(N-i) +'*'+ repeat*(i-1))"
      ],
      "metadata": {
        "colab": {
          "base_uri": "https://localhost:8080/"
        },
        "id": "KwNWbbLSS4Xw",
        "outputId": "e685c87e-b599-4d8a-80e0-133e01734c92"
      },
      "execution_count": 1,
      "outputs": [
        {
          "output_type": "stream",
          "name": "stdout",
          "text": [
            "4\n",
            "   *\n",
            "  * *\n",
            " * * *\n",
            "* * * *\n"
          ]
        }
      ]
    },
    {
      "cell_type": "markdown",
      "source": [
        "### 15. 별 찍기 - 17\n",
        "\n",
        "```\n",
        "# 입력 4\n",
        "   *\n",
        "  * *\n",
        " *   *\n",
        "*******\n",
        "```\n",
        "\n",
        "\n",
        "\n",
        "https://www.acmicpc.net/problem/10992"
      ],
      "metadata": {
        "id": "Ds3Q7s84cvJG"
      }
    },
    {
      "cell_type": "code",
      "source": [
        "N = int(input())\n",
        "if 1 <= N <= 100:\n",
        "  print(' '*(N-1) + '*')\n",
        "  for i in range(1,N-1):\n",
        "    print(' '*(N-i-1)+ '*' + ' '*(2*i-1) + '*')\n",
        "  print('*'*(2*N-1))"
      ],
      "metadata": {
        "colab": {
          "base_uri": "https://localhost:8080/"
        },
        "id": "eDXcSJ1fx2tm",
        "outputId": "caee625a-5d9f-4d90-ab1c-301d16f9b9aa"
      },
      "execution_count": 12,
      "outputs": [
        {
          "output_type": "stream",
          "name": "stdout",
          "text": [
            "1\n",
            "*\n",
            "*\n"
          ]
        }
      ]
    },
    {
      "cell_type": "markdown",
      "source": [
        "- 이 코드로 진행시에 1에서 문제가 되었다"
      ],
      "metadata": {
        "id": "cv2Tt1vI1rzJ"
      }
    },
    {
      "cell_type": "code",
      "source": [
        "N = int(input())\n",
        "if 1 <= N <= 100:\n",
        "  for i in range(1,N):\n",
        "    if i ==1:\n",
        "      print(' '*(N-1) + '*')\n",
        "    else:\n",
        "      print(' '*(N-i)+ '*' + ' '*(2*i-3) + '*')\n",
        "  print('*'*(2*N-1))"
      ],
      "metadata": {
        "colab": {
          "base_uri": "https://localhost:8080/"
        },
        "id": "6rZUmi9Q0KDn",
        "outputId": "6733698b-2a07-4c21-ebf4-9efa6f1360d4"
      },
      "execution_count": 20,
      "outputs": [
        {
          "output_type": "stream",
          "name": "stdout",
          "text": [
            "4\n",
            "   *\n",
            "  * *\n",
            " *   *\n",
            "*******\n"
          ]
        }
      ]
    }
  ]
}