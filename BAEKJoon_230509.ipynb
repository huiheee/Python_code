{
  "nbformat": 4,
  "nbformat_minor": 0,
  "metadata": {
    "colab": {
      "provenance": []
    },
    "kernelspec": {
      "name": "python3",
      "display_name": "Python 3"
    },
    "language_info": {
      "name": "python"
    }
  },
  "cells": [
    {
      "cell_type": "markdown",
      "source": [
        "1. Hello World!를 출력하시오.\n",
        "\n",
        "https://www.acmicpc.net/problem/2557"
      ],
      "metadata": {
        "id": "nUb1NSFvQcc7"
      }
    },
    {
      "cell_type": "code",
      "source": [
        "print(\"Hello World!\")"
      ],
      "metadata": {
        "colab": {
          "base_uri": "https://localhost:8080/"
        },
        "id": "T_iEGp9j-jzO",
        "outputId": "b0bb78f0-55e6-450c-c551-b0d9a291a8f2"
      },
      "execution_count": 6,
      "outputs": [
        {
          "output_type": "stream",
          "name": "stdout",
          "text": [
            "Hello World!\n"
          ]
        }
      ]
    },
    {
      "cell_type": "markdown",
      "source": [
        "2. 첫째 줄에는 별 1개, 둘째 줄에는 별 2개, N번째 줄에는 별 N개를 찍는 문제\n",
        "\n",
        "https://www.acmicpc.net/problem/2438"
      ],
      "metadata": {
        "id": "WjOARNJ_Qeze"
      }
    },
    {
      "cell_type": "code",
      "execution_count": 2,
      "metadata": {
        "colab": {
          "base_uri": "https://localhost:8080/"
        },
        "id": "7vJoGfis9aie",
        "outputId": "eae80fe8-9c25-44a2-fda7-d78f2c81f861"
      },
      "outputs": [
        {
          "name": "stdout",
          "output_type": "stream",
          "text": [
            "101\n"
          ]
        }
      ],
      "source": [
        "N = int(input())\n",
        "if 1 <= N <= 100:\n",
        "  for i in range(1, N+1):\n",
        "    print('*'*i)"
      ]
    },
    {
      "cell_type": "markdown",
      "source": [
        "3. 첫째 줄에는 별 1개, 둘째 줄에는 별 2개, N번째 줄에는 별 N개를 찍는 문제\n",
        "\n",
        "  하지만, 오른쪽을 기준으로 정렬한 별(예제 참고)을 출력하시오.\n",
        "\n",
        "https://www.acmicpc.net/problem/2439"
      ],
      "metadata": {
        "id": "nfikb7i8QgQT"
      }
    },
    {
      "cell_type": "code",
      "source": [
        "N = int(input())\n",
        "if 1 <= N <= 100:\n",
        "  for i in range(1, N+1):\n",
        "    print(('*'*i).rjust(N))"
      ],
      "metadata": {
        "colab": {
          "base_uri": "https://localhost:8080/"
        },
        "id": "-IrADSKL-jQ4",
        "outputId": "6dca2e28-f726-4e4b-9d90-94b5c31a02ea"
      },
      "execution_count": 7,
      "outputs": [
        {
          "output_type": "stream",
          "name": "stdout",
          "text": [
            "5\n",
            "    *\n",
            "   **\n",
            "  ***\n",
            " ****\n",
            "*****\n"
          ]
        }
      ]
    },
    {
      "cell_type": "markdown",
      "source": [
        "4. 첫째 줄에는 별 N개, 둘째 줄에는 별 N-1개, ..., N번째 줄에는 별 1개를 찍는 문제\n",
        "\n",
        "https://www.acmicpc.net/problem/2440"
      ],
      "metadata": {
        "id": "I_qsxWhDQmUi"
      }
    },
    {
      "cell_type": "code",
      "source": [
        "N = int(input())\n",
        "\n",
        "if 1 <= N <= 100:\n",
        "  for i in range(0,N):\n",
        "    print('*'*(N-i))"
      ],
      "metadata": {
        "colab": {
          "base_uri": "https://localhost:8080/"
        },
        "id": "nQUgax18_yKU",
        "outputId": "5ec98d3e-a2fc-4630-9254-5c63ac153086"
      },
      "execution_count": 8,
      "outputs": [
        {
          "output_type": "stream",
          "name": "stdout",
          "text": [
            "5\n",
            "*****\n",
            "****\n",
            "***\n",
            "**\n",
            "*\n"
          ]
        }
      ]
    },
    {
      "cell_type": "markdown",
      "source": [
        "5. 첫째 줄에는 별 N개, 둘째 줄에는 별 N-1개, ..., N번째 줄에는 별 1개를 찍는 문제\n",
        "\n",
        "  하지만, 오른쪽을 기준으로 정렬한 별(예제 참고)을 출력하시오\n",
        "\n",
        "https://www.acmicpc.net/problem/2441"
      ],
      "metadata": {
        "id": "l0VMXs70Qn2J"
      }
    },
    {
      "cell_type": "code",
      "source": [
        "N = int(input())\n",
        "\n",
        "if 1 <= N <= 100:\n",
        "  for i in range(0,N):\n",
        "    print(('*'*(N-i)).rjust(N))"
      ],
      "metadata": {
        "colab": {
          "base_uri": "https://localhost:8080/"
        },
        "id": "04L0Y5Qw_yGB",
        "outputId": "72f194b8-ad75-4207-d20a-654121c532b2"
      },
      "execution_count": 9,
      "outputs": [
        {
          "output_type": "stream",
          "name": "stdout",
          "text": [
            "5\n",
            "*****\n",
            " ****\n",
            "  ***\n",
            "   **\n",
            "    *\n"
          ]
        }
      ]
    },
    {
      "cell_type": "markdown",
      "source": [
        "6. 첫째 줄에는 별 1개, 둘째 줄에는 별 3개, ..., N번째 줄에는 별 2×N-1개를 찍는 문제\n",
        "\n",
        "  별은 가운데를 기준으로 대칭이어야 한다.\n",
        "\n",
        "https://www.acmicpc.net/problem/2442"
      ],
      "metadata": {
        "id": "Mk3rAthFQpD_"
      }
    },
    {
      "cell_type": "code",
      "source": [
        "N = int(input())\n",
        "if 1 <= N <= 100:\n",
        "  for i in range(1, N+1):\n",
        "    print(('*'*i).rjust(5)+('*'*(i-1)).ljust(5))"
      ],
      "metadata": {
        "colab": {
          "base_uri": "https://localhost:8080/"
        },
        "id": "6W3xgFNy_yAM",
        "outputId": "f8c305cc-b3d7-406c-902e-ce937bf66ac6"
      },
      "execution_count": 5,
      "outputs": [
        {
          "output_type": "stream",
          "name": "stdout",
          "text": [
            "5\n",
            "    *     \n",
            "   ***    \n",
            "  *****   \n",
            " *******  \n",
            "********* \n"
          ]
        }
      ]
    },
    {
      "cell_type": "code",
      "source": [
        "N = int(input())\n",
        "if 1 <= N <= 100:\n",
        "  for i in range(1, N+1):\n",
        "    print(' '*(N-i)+'*'*(2*i-1))"
      ],
      "metadata": {
        "colab": {
          "base_uri": "https://localhost:8080/"
        },
        "id": "Z3N7HJo0FJL-",
        "outputId": "fe109c98-32c6-4882-a078-2b71215092b1"
      },
      "execution_count": 3,
      "outputs": [
        {
          "output_type": "stream",
          "name": "stdout",
          "text": [
            "5\n",
            "    *\n",
            "   ***\n",
            "  *****\n",
            " *******\n",
            "*********\n"
          ]
        }
      ]
    },
    {
      "cell_type": "markdown",
      "source": [
        "7. 첫째 줄에는 별 2×N-1개, 둘째 줄에는 별 2×N-3개, ..., N번째 줄에는 별 1개를 찍는 문제\n",
        "\n",
        "  별은 가운데를 기준으로 대칭이어야 한다.\n",
        "\n",
        "https://www.acmicpc.net/problem/2443"
      ],
      "metadata": {
        "id": "1vC7rTmTQrRR"
      }
    },
    {
      "cell_type": "code",
      "source": [
        "N = int(input())\n",
        "if 1 <= N <= 100:\n",
        "  for i in range(0, N):\n",
        "    print(' '*i + '*'*(2*(N-i)-1))"
      ],
      "metadata": {
        "colab": {
          "base_uri": "https://localhost:8080/"
        },
        "id": "Xmn98w65_x48",
        "outputId": "2626a78d-8b5f-466d-8b0b-028adcef07cb"
      },
      "execution_count": 26,
      "outputs": [
        {
          "output_type": "stream",
          "name": "stdout",
          "text": [
            "5\n",
            "*********\n",
            " *******\n",
            "  *****\n",
            "   ***\n",
            "    *\n"
          ]
        }
      ]
    },
    {
      "cell_type": "markdown",
      "source": [
        "8. 예제를 보고 규칙을 유추한 뒤에 별을 찍어 보세요.\n",
        "\n",
        "```\n",
        "    *\n",
        "   ***\n",
        "  *****\n",
        " *******\n",
        "*********\n",
        " *******\n",
        "  *****\n",
        "   ***\n",
        "    *\n",
        "```\n",
        "\n",
        "\n",
        "https://www.acmicpc.net/problem/2444"
      ],
      "metadata": {
        "id": "n3dEKFfhQsIs"
      }
    },
    {
      "cell_type": "code",
      "source": [
        "N = int(input())\n",
        "if 1 <= N <= 100:\n",
        "  for i in range(1, N+1):\n",
        "    print(' '*(N-i)+'*'*(2*i-1))\n",
        "  for j in range(1, N):\n",
        "      print(' '*j + '*'*(2*(N-j)-1))"
      ],
      "metadata": {
        "colab": {
          "base_uri": "https://localhost:8080/"
        },
        "id": "Wtt_KWHc_xzD",
        "outputId": "44b494df-da54-4a9b-bcdf-2e711d2a3530"
      },
      "execution_count": 31,
      "outputs": [
        {
          "output_type": "stream",
          "name": "stdout",
          "text": [
            "5\n",
            "    *\n",
            "   ***\n",
            "  *****\n",
            " *******\n",
            "*********\n",
            " *******\n",
            "  *****\n",
            "   ***\n",
            "    *\n"
          ]
        }
      ]
    },
    {
      "cell_type": "markdown",
      "source": [
        "9. 예제를 보고 규칙을 유추한 뒤에 별을 찍어 보세요.\n",
        "\n",
        "```\n",
        "*        *\n",
        "**      **\n",
        "***    ***\n",
        "****  ****\n",
        "**********\n",
        "****  ****\n",
        "***    ***\n",
        "**      **\n",
        "*        *\n",
        "```\n",
        "https://www.acmicpc.net/problem/2445\n"
      ],
      "metadata": {
        "id": "Eb31J5JKyO_7"
      }
    },
    {
      "cell_type": "code",
      "source": [
        "N = int(input())\n",
        "if 1 <= N <= 100:\n",
        "  for i in range(1, N+1):\n",
        "    print('*'*i + ' '*(2*(N-i)) + ('*'*i).rjust(i))\n",
        "  for j in range(1, N):\n",
        "      print('*'*(N-j) + ' '*(2*j) + ('*'*(N-j)))"
      ],
      "metadata": {
        "colab": {
          "base_uri": "https://localhost:8080/"
        },
        "id": "eHQQbUrxIlx9",
        "outputId": "c6b39a72-8c6d-4f56-fa95-836c399d94fa"
      },
      "execution_count": 51,
      "outputs": [
        {
          "output_type": "stream",
          "name": "stdout",
          "text": [
            "5\n",
            "*        *\n",
            "**      **\n",
            "***    ***\n",
            "****  ****\n",
            "**********\n",
            "****  ****\n",
            "***    ***\n",
            "**      **\n",
            "*        *\n"
          ]
        }
      ]
    },
    {
      "cell_type": "markdown",
      "source": [
        "10. 예제를 보고 규칙을 유추한 뒤에 별을 찍어 보세요.\n",
        "\n",
        "\n",
        "```\n",
        "*********\n",
        " *******\n",
        "  *****\n",
        "   ***\n",
        "    *\n",
        "   ***\n",
        "  *****\n",
        " *******\n",
        "*********\n",
        "```\n",
        "https://www.acmicpc.net/problem/2446\n"
      ],
      "metadata": {
        "id": "P4yWzxvwyZ7d"
      }
    },
    {
      "cell_type": "code",
      "source": [
        "N = int(input())\n",
        "if 1 <= N <= 100:\n",
        "  for j in range(0, N):\n",
        "      print(' '*j + '*'*(2*(N-j)-1))\n",
        "  for i in range(2, N+1):\n",
        "    print(' '*(N-i)+'*'*(2*i-1))"
      ],
      "metadata": {
        "colab": {
          "base_uri": "https://localhost:8080/"
        },
        "id": "EK-3kjZ2Ilo2",
        "outputId": "11fd4406-554d-4f52-986e-51f90e921114"
      },
      "execution_count": 56,
      "outputs": [
        {
          "output_type": "stream",
          "name": "stdout",
          "text": [
            "5\n",
            "*********\n",
            " *******\n",
            "  *****\n",
            "   ***\n",
            "    *\n",
            "   ***\n",
            "  *****\n",
            " *******\n",
            "*********\n"
          ]
        }
      ]
    },
    {
      "cell_type": "markdown",
      "source": [
        "# Reference\n",
        "\n",
        "- 오른쪽 정렬(https://blackhippo.tistory.com/entry/Python-print%EB%AC%B8-%EC%98%A4%EB%A5%B8%EC%AA%BD%EC%99%BC%EC%AA%BD-%EC%A0%95%EB%A0%AC%ED%95%98%EA%B8%B0-%EC%9D%80%ED%96%89%EB%B2%88%ED%98%B8%ED%91%9C-%ED%91%9C%ED%98%84%ED%95%98%EA%B8%B0)"
      ],
      "metadata": {
        "id": "QMTmxo0BAHj1"
      }
    }
  ]
}